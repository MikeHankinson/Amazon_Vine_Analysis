{
  "nbformat": 4,
  "nbformat_minor": 0,
  "metadata": {
    "colab": {
      "name": "Vine_Review_Analysis.ipynb",
      "provenance": [],
      "collapsed_sections": [],
      "authorship_tag": "ABX9TyPrbJD+pwih4eZqPeB3E1uj",
      "include_colab_link": true
    },
    "kernelspec": {
      "name": "python3",
      "display_name": "Python 3"
    }
  },
  "cells": [
    {
      "cell_type": "markdown",
      "metadata": {
        "id": "view-in-github",
        "colab_type": "text"
      },
      "source": [
        "<a href=\"https://colab.research.google.com/github/MikeHankinson/Amazon_Vine_Analysis/blob/main/Vine_Review_Analysis.ipynb\" target=\"_parent\"><img src=\"https://colab.research.google.com/assets/colab-badge.svg\" alt=\"Open In Colab\"/></a>"
      ]
    },
    {
      "cell_type": "markdown",
      "metadata": {
        "id": "2XIwBwr4nc5j"
      },
      "source": [
        "**Install PySpark** \r\n",
        "PySPark does not come native to Google Colab\r\n",
        "\r\n",
        "---\r\n",
        "\r\n"
      ]
    },
    {
      "cell_type": "code",
      "metadata": {
        "colab": {
          "base_uri": "https://localhost:8080/"
        },
        "id": "MdjfrU2Wm43g",
        "outputId": "5569e879-4944-4f2f-92e8-4b670ac27366"
      },
      "source": [
        "import os\r\n",
        "# Find the latest version of spark 2.0  from http://www-us.apache.org/dist/spark/ and enter as the spark version\r\n",
        "# For example:\r\n",
        "# spark_version = 'spark-3.0.0'\r\n",
        "spark_version = 'spark-3.0.1'\r\n",
        "os.environ['SPARK_VERSION']=spark_version\r\n",
        "\r\n",
        "# Install Spark and Java\r\n",
        "!apt-get update\r\n",
        "!apt-get install openjdk-11-jdk-headless -qq > /dev/null\r\n",
        "!wget -q http://www-us.apache.org/dist/spark/$SPARK_VERSION/$SPARK_VERSION-bin-hadoop2.7.tgz\r\n",
        "!tar xf $SPARK_VERSION-bin-hadoop2.7.tgz\r\n",
        "!pip install -q findspark\r\n",
        "\r\n",
        "# Set Environment Variables\r\n",
        "import os\r\n",
        "os.environ[\"JAVA_HOME\"] = \"/usr/lib/jvm/java-11-openjdk-amd64\"\r\n",
        "os.environ[\"SPARK_HOME\"] = f\"/content/{spark_version}-bin-hadoop2.7\"\r\n",
        "\r\n",
        "# Start a SparkSession\r\n",
        "import findspark\r\n",
        "findspark.init()"
      ],
      "execution_count": 3,
      "outputs": [
        {
          "output_type": "stream",
          "text": [
            "\r0% [Working]\r            \rIgn:1 https://developer.download.nvidia.com/compute/cuda/repos/ubuntu1804/x86_64  InRelease\n",
            "\r0% [Connecting to archive.ubuntu.com (91.189.88.152)] [Connecting to security.u\r                                                                               \rGet:2 https://cloud.r-project.org/bin/linux/ubuntu bionic-cran40/ InRelease [3,626 B]\n",
            "\r0% [Connecting to archive.ubuntu.com (91.189.88.152)] [Connecting to security.u\r0% [Connecting to archive.ubuntu.com (91.189.88.152)] [Connecting to security.u\r                                                                               \rIgn:3 https://developer.download.nvidia.com/compute/machine-learning/repos/ubuntu1804/x86_64  InRelease\n",
            "\r0% [Connecting to archive.ubuntu.com (91.189.88.152)] [Connecting to security.u\r0% [2 InRelease gpgv 3,626 B] [Connecting to archive.ubuntu.com (91.189.88.152)\r                                                                               \rGet:4 https://developer.download.nvidia.com/compute/cuda/repos/ubuntu1804/x86_64  Release [697 B]\n",
            "\r0% [2 InRelease gpgv 3,626 B] [Connecting to archive.ubuntu.com (91.189.88.152)\r                                                                               \rHit:5 https://developer.download.nvidia.com/compute/machine-learning/repos/ubuntu1804/x86_64  Release\n",
            "Get:6 https://developer.download.nvidia.com/compute/cuda/repos/ubuntu1804/x86_64  Release.gpg [836 B]\n",
            "Hit:7 http://archive.ubuntu.com/ubuntu bionic InRelease\n",
            "Get:8 http://security.ubuntu.com/ubuntu bionic-security InRelease [88.7 kB]\n",
            "Get:9 http://archive.ubuntu.com/ubuntu bionic-updates InRelease [88.7 kB]\n",
            "Get:10 https://cloud.r-project.org/bin/linux/ubuntu bionic-cran40/ Packages [44.8 kB]\n",
            "Get:11 http://ppa.launchpad.net/c2d4u.team/c2d4u4.0+/ubuntu bionic InRelease [15.9 kB]\n",
            "Ign:13 https://developer.download.nvidia.com/compute/cuda/repos/ubuntu1804/x86_64  Packages\n",
            "Get:13 https://developer.download.nvidia.com/compute/cuda/repos/ubuntu1804/x86_64  Packages [552 kB]\n",
            "Hit:14 http://ppa.launchpad.net/cran/libgit2/ubuntu bionic InRelease\n",
            "Get:15 http://archive.ubuntu.com/ubuntu bionic-backports InRelease [74.6 kB]\n",
            "Hit:16 http://ppa.launchpad.net/graphics-drivers/ppa/ubuntu bionic InRelease\n",
            "Get:17 http://ppa.launchpad.net/c2d4u.team/c2d4u4.0+/ubuntu bionic/main Sources [1,729 kB]\n",
            "Get:18 http://archive.ubuntu.com/ubuntu bionic-updates/universe amd64 Packages [2,157 kB]\n",
            "Get:19 http://archive.ubuntu.com/ubuntu bionic-updates/main amd64 Packages [2,352 kB]\n",
            "Get:20 http://ppa.launchpad.net/c2d4u.team/c2d4u4.0+/ubuntu bionic/main amd64 Packages [885 kB]\n",
            "Fetched 7,992 kB in 4s (2,168 kB/s)\n",
            "Reading package lists... Done\n"
          ],
          "name": "stdout"
        }
      ]
    },
    {
      "cell_type": "code",
      "metadata": {
        "colab": {
          "base_uri": "https://localhost:8080/"
        },
        "id": "1G6gNWsVnjBK",
        "outputId": "b947ac3c-f2e9-41d8-f460-7d0df1eb055b"
      },
      "source": [
        "# Download the Postgres driver that will allow Spark to interact with Postgres.\r\n",
        "!wget https://jdbc.postgresql.org/download/postgresql-42.2.16.jar\r\n",
        "\r\n",
        "\r\n",
        "from pyspark.sql import SparkSession\r\n",
        "spark = SparkSession.builder.appName(\"BigData-Challenge_Deliverable2\").config(\"spark.driver.extraClassPath\",\"/content/postgresql-42.2.16.jar\").getOrCreate()"
      ],
      "execution_count": 4,
      "outputs": [
        {
          "output_type": "stream",
          "text": [
            "--2021-02-08 03:40:58--  https://jdbc.postgresql.org/download/postgresql-42.2.16.jar\n",
            "Resolving jdbc.postgresql.org (jdbc.postgresql.org)... 72.32.157.228, 2001:4800:3e1:1::228\n",
            "Connecting to jdbc.postgresql.org (jdbc.postgresql.org)|72.32.157.228|:443... connected.\n",
            "HTTP request sent, awaiting response... 200 OK\n",
            "Length: 1002883 (979K) [application/java-archive]\n",
            "Saving to: ‘postgresql-42.2.16.jar’\n",
            "\n",
            "postgresql-42.2.16. 100%[===================>] 979.38K  5.99MB/s    in 0.2s    \n",
            "\n",
            "2021-02-08 03:40:59 (5.99 MB/s) - ‘postgresql-42.2.16.jar’ saved [1002883/1002883]\n",
            "\n"
          ],
          "name": "stdout"
        }
      ]
    },
    {
      "cell_type": "markdown",
      "metadata": {
        "id": "tLfbec3duyl2"
      },
      "source": [
        "**Retrieve *vine_table.csv* from AWS S3**\r\n",
        "\r\n",
        "---\r\n",
        "\r\n"
      ]
    },
    {
      "cell_type": "code",
      "metadata": {
        "colab": {
          "base_uri": "https://localhost:8080/"
        },
        "id": "mA4-fI0Jnwbj",
        "outputId": "85c936d5-6c9d-4b54-cd0b-27ada5997f20"
      },
      "source": [
        "from pyspark import SparkFiles\r\n",
        "url = \"https://hankmikebootcamp.s3.amazonaws.com/vine_table.csv\"\r\n",
        "spark.sparkContext.addFile(url)\r\n",
        "df = spark.read.option(\"encoding\", \"UTF-8\").csv(SparkFiles.get(\"vine_table.csv\"), sep=\",\", header=True)\r\n",
        "df.show(10)"
      ],
      "execution_count": 148,
      "outputs": [
        {
          "output_type": "stream",
          "text": [
            "+--------------+-----------+-------------+-----------+----+-----------------+\n",
            "|     review_id|star_rating|helpful_votes|total_votes|vine|verified_purchase|\n",
            "+--------------+-----------+-------------+-----------+----+-----------------+\n",
            "| RTIS3L2M1F5SM|          5|            0|          0|   N|                Y|\n",
            "| R1ZV7R40OLHKD|          5|            0|          0|   N|                Y|\n",
            "|R3BH071QLH8QMC|          1|            0|          1|   N|                Y|\n",
            "|R127K9NTSXA2YH|          3|            0|          0|   N|                Y|\n",
            "|R32ZWUXDJPW27Q|          4|            0|          0|   N|                Y|\n",
            "|R3AQQ4YUKJWBA6|          1|            0|          0|   N|                Y|\n",
            "|R2F0POU5K6F73F|          5|            0|          0|   N|                Y|\n",
            "|R3VNR804HYSMR6|          5|            0|          0|   N|                Y|\n",
            "| R3GZTM72WA2QH|          5|            0|          0|   N|                Y|\n",
            "| RNQOY62705W1K|          4|            0|          0|   N|                Y|\n",
            "+--------------+-----------+-------------+-----------+----+-----------------+\n",
            "only showing top 10 rows\n",
            "\n"
          ],
          "name": "stdout"
        }
      ]
    },
    {
      "cell_type": "markdown",
      "metadata": {
        "id": "1X0iqGozvWbV"
      },
      "source": [
        "**Step 1:** Filter the data and create a new DataFrame or table to retrieve all the rows where the total_votes count is equal to or greater than 20 to pick reviews that are more likely to be helpful and to avoid having division by zero errors later on.\r\n",
        "\r\n",
        "\r\n",
        "---\r\n",
        "\r\n"
      ]
    },
    {
      "cell_type": "code",
      "metadata": {
        "colab": {
          "base_uri": "https://localhost:8080/"
        },
        "id": "o3sh_X8dtMLE",
        "outputId": "4ea80bfb-66c9-44a7-9218-d0b902ac5877"
      },
      "source": [
        "total_votes20_df = df.filter(\"total_votes>=20\")\r\n",
        "total_votes20_df.show(10)"
      ],
      "execution_count": 149,
      "outputs": [
        {
          "output_type": "stream",
          "text": [
            "+--------------+-----------+-------------+-----------+----+-----------------+\n",
            "|     review_id|star_rating|helpful_votes|total_votes|vine|verified_purchase|\n",
            "+--------------+-----------+-------------+-----------+----+-----------------+\n",
            "| R4PKAZRQJJX14|          1|           21|         34|   N|                N|\n",
            "|R2CI0Y288CC7E2|          1|           21|         35|   N|                Y|\n",
            "|R127WEQY2FM1T3|          1|          147|        175|   N|                Y|\n",
            "|R3EZ0EPYLDA34S|          1|           14|         31|   N|                Y|\n",
            "|R2FJ94555FZH32|          2|           55|         60|   N|                N|\n",
            "|R1U3AR67RE273L|          1|           51|         65|   N|                Y|\n",
            "|R3PZOXA5X1U8KW|          4|           31|         36|   N|                N|\n",
            "| R6KTC1OPIOIIG|          2|           19|         34|   N|                Y|\n",
            "|R36O341WWXXKNP|          5|           28|         31|   N|                N|\n",
            "|R3GSK9MM8DNOYI|          1|            4|         32|   N|                N|\n",
            "+--------------+-----------+-------------+-----------+----+-----------------+\n",
            "only showing top 10 rows\n",
            "\n"
          ],
          "name": "stdout"
        }
      ]
    },
    {
      "cell_type": "markdown",
      "metadata": {
        "id": "c6dS9CA-v7jc"
      },
      "source": [
        "**Step 2:** Filter the new DataFrame or table created in Step 1 and create a new DataFrame or table to retrieve all the rows where the number of helpful_votes divided by total_votes is equal to or greater than 50%.\r\n",
        "\r\n",
        "\r\n",
        "---"
      ]
    },
    {
      "cell_type": "code",
      "metadata": {
        "colab": {
          "base_uri": "https://localhost:8080/",
          "height": 204
        },
        "id": "1HEu7MnGRKTV",
        "outputId": "6411a2e2-f9c6-4d39-f69a-712a406d2948"
      },
      "source": [
        "# Convert Pandas Df from Spark DF \r\n",
        "import pandas as pd\r\n",
        "total_votes20_df = total_votes20_df.toPandas() \r\n",
        "\r\n",
        "# Convert helpful_votes and total_votes columns from string to float\r\n",
        "total_votes20_df['helpful_votes'] = total_votes20_df['helpful_votes'].astype(float)\r\n",
        "total_votes20_df['total_votes'] = total_votes20_df['total_votes'].astype(float)\r\n",
        "total_votes20_df.head()"
      ],
      "execution_count": 155,
      "outputs": [
        {
          "output_type": "execute_result",
          "data": {
            "text/html": [
              "<div>\n",
              "<style scoped>\n",
              "    .dataframe tbody tr th:only-of-type {\n",
              "        vertical-align: middle;\n",
              "    }\n",
              "\n",
              "    .dataframe tbody tr th {\n",
              "        vertical-align: top;\n",
              "    }\n",
              "\n",
              "    .dataframe thead th {\n",
              "        text-align: right;\n",
              "    }\n",
              "</style>\n",
              "<table border=\"1\" class=\"dataframe\">\n",
              "  <thead>\n",
              "    <tr style=\"text-align: right;\">\n",
              "      <th></th>\n",
              "      <th>review_id</th>\n",
              "      <th>star_rating</th>\n",
              "      <th>helpful_votes</th>\n",
              "      <th>total_votes</th>\n",
              "      <th>vine</th>\n",
              "      <th>verified_purchase</th>\n",
              "      <th>helpful_ratio</th>\n",
              "    </tr>\n",
              "  </thead>\n",
              "  <tbody>\n",
              "    <tr>\n",
              "      <th>0</th>\n",
              "      <td>R4PKAZRQJJX14</td>\n",
              "      <td>1</td>\n",
              "      <td>21.0</td>\n",
              "      <td>34.0</td>\n",
              "      <td>N</td>\n",
              "      <td>N</td>\n",
              "      <td>0.617647</td>\n",
              "    </tr>\n",
              "    <tr>\n",
              "      <th>1</th>\n",
              "      <td>R2CI0Y288CC7E2</td>\n",
              "      <td>1</td>\n",
              "      <td>21.0</td>\n",
              "      <td>35.0</td>\n",
              "      <td>N</td>\n",
              "      <td>Y</td>\n",
              "      <td>0.600000</td>\n",
              "    </tr>\n",
              "    <tr>\n",
              "      <th>2</th>\n",
              "      <td>R127WEQY2FM1T3</td>\n",
              "      <td>1</td>\n",
              "      <td>147.0</td>\n",
              "      <td>175.0</td>\n",
              "      <td>N</td>\n",
              "      <td>Y</td>\n",
              "      <td>0.840000</td>\n",
              "    </tr>\n",
              "    <tr>\n",
              "      <th>3</th>\n",
              "      <td>R3EZ0EPYLDA34S</td>\n",
              "      <td>1</td>\n",
              "      <td>14.0</td>\n",
              "      <td>31.0</td>\n",
              "      <td>N</td>\n",
              "      <td>Y</td>\n",
              "      <td>0.451613</td>\n",
              "    </tr>\n",
              "    <tr>\n",
              "      <th>4</th>\n",
              "      <td>R2FJ94555FZH32</td>\n",
              "      <td>2</td>\n",
              "      <td>55.0</td>\n",
              "      <td>60.0</td>\n",
              "      <td>N</td>\n",
              "      <td>N</td>\n",
              "      <td>0.916667</td>\n",
              "    </tr>\n",
              "  </tbody>\n",
              "</table>\n",
              "</div>"
            ],
            "text/plain": [
              "        review_id star_rating  ...  verified_purchase  helpful_ratio\n",
              "0   R4PKAZRQJJX14           1  ...                  N       0.617647\n",
              "1  R2CI0Y288CC7E2           1  ...                  Y       0.600000\n",
              "2  R127WEQY2FM1T3           1  ...                  Y       0.840000\n",
              "3  R3EZ0EPYLDA34S           1  ...                  Y       0.451613\n",
              "4  R2FJ94555FZH32           2  ...                  N       0.916667\n",
              "\n",
              "[5 rows x 7 columns]"
            ]
          },
          "metadata": {
            "tags": []
          },
          "execution_count": 155
        }
      ]
    },
    {
      "cell_type": "code",
      "metadata": {
        "id": "KR5AjZ-2U95C"
      },
      "source": [
        "# Add \"helpful/total\" Column: helpful_votes divided by total_votes\r\n",
        "total_votes20_df[\"helpful_ratio\"] = (total_votes20_df[\"helpful_votes\"] / total_votes20_df[\"total_votes\"])\r\n"
      ],
      "execution_count": 156,
      "outputs": []
    },
    {
      "cell_type": "code",
      "metadata": {
        "colab": {
          "base_uri": "https://localhost:8080/",
          "height": 204
        },
        "id": "ln7sSGc2VoBm",
        "outputId": "4c920543-eaf7-4829-872c-bd8c6a5c8e02"
      },
      "source": [
        "total_votes20_df.head()"
      ],
      "execution_count": 157,
      "outputs": [
        {
          "output_type": "execute_result",
          "data": {
            "text/html": [
              "<div>\n",
              "<style scoped>\n",
              "    .dataframe tbody tr th:only-of-type {\n",
              "        vertical-align: middle;\n",
              "    }\n",
              "\n",
              "    .dataframe tbody tr th {\n",
              "        vertical-align: top;\n",
              "    }\n",
              "\n",
              "    .dataframe thead th {\n",
              "        text-align: right;\n",
              "    }\n",
              "</style>\n",
              "<table border=\"1\" class=\"dataframe\">\n",
              "  <thead>\n",
              "    <tr style=\"text-align: right;\">\n",
              "      <th></th>\n",
              "      <th>review_id</th>\n",
              "      <th>star_rating</th>\n",
              "      <th>helpful_votes</th>\n",
              "      <th>total_votes</th>\n",
              "      <th>vine</th>\n",
              "      <th>verified_purchase</th>\n",
              "      <th>helpful_ratio</th>\n",
              "    </tr>\n",
              "  </thead>\n",
              "  <tbody>\n",
              "    <tr>\n",
              "      <th>0</th>\n",
              "      <td>R4PKAZRQJJX14</td>\n",
              "      <td>1</td>\n",
              "      <td>21.0</td>\n",
              "      <td>34.0</td>\n",
              "      <td>N</td>\n",
              "      <td>N</td>\n",
              "      <td>0.617647</td>\n",
              "    </tr>\n",
              "    <tr>\n",
              "      <th>1</th>\n",
              "      <td>R2CI0Y288CC7E2</td>\n",
              "      <td>1</td>\n",
              "      <td>21.0</td>\n",
              "      <td>35.0</td>\n",
              "      <td>N</td>\n",
              "      <td>Y</td>\n",
              "      <td>0.600000</td>\n",
              "    </tr>\n",
              "    <tr>\n",
              "      <th>2</th>\n",
              "      <td>R127WEQY2FM1T3</td>\n",
              "      <td>1</td>\n",
              "      <td>147.0</td>\n",
              "      <td>175.0</td>\n",
              "      <td>N</td>\n",
              "      <td>Y</td>\n",
              "      <td>0.840000</td>\n",
              "    </tr>\n",
              "    <tr>\n",
              "      <th>3</th>\n",
              "      <td>R3EZ0EPYLDA34S</td>\n",
              "      <td>1</td>\n",
              "      <td>14.0</td>\n",
              "      <td>31.0</td>\n",
              "      <td>N</td>\n",
              "      <td>Y</td>\n",
              "      <td>0.451613</td>\n",
              "    </tr>\n",
              "    <tr>\n",
              "      <th>4</th>\n",
              "      <td>R2FJ94555FZH32</td>\n",
              "      <td>2</td>\n",
              "      <td>55.0</td>\n",
              "      <td>60.0</td>\n",
              "      <td>N</td>\n",
              "      <td>N</td>\n",
              "      <td>0.916667</td>\n",
              "    </tr>\n",
              "  </tbody>\n",
              "</table>\n",
              "</div>"
            ],
            "text/plain": [
              "        review_id star_rating  ...  verified_purchase  helpful_ratio\n",
              "0   R4PKAZRQJJX14           1  ...                  N       0.617647\n",
              "1  R2CI0Y288CC7E2           1  ...                  Y       0.600000\n",
              "2  R127WEQY2FM1T3           1  ...                  Y       0.840000\n",
              "3  R3EZ0EPYLDA34S           1  ...                  Y       0.451613\n",
              "4  R2FJ94555FZH32           2  ...                  N       0.916667\n",
              "\n",
              "[5 rows x 7 columns]"
            ]
          },
          "metadata": {
            "tags": []
          },
          "execution_count": 157
        }
      ]
    },
    {
      "cell_type": "code",
      "metadata": {
        "id": "4Ox1q53wWiT9"
      },
      "source": [
        "# Convert Spark DF from Pandas Df \r\n",
        "from pyspark.sql import SparkSession\r\n",
        "total_votes20_df = spark.createDataFrame(total_votes20_df)\r\n"
      ],
      "execution_count": 158,
      "outputs": []
    },
    {
      "cell_type": "code",
      "metadata": {
        "colab": {
          "base_uri": "https://localhost:8080/"
        },
        "id": "4YafC5e0XwvQ",
        "outputId": "819719f8-35d6-4f3e-ecb5-8f7fb8e64007"
      },
      "source": [
        "total_votes20_df.show()"
      ],
      "execution_count": 145,
      "outputs": [
        {
          "output_type": "stream",
          "text": [
            "+--------------+-----------+-------------+-----------+----+-----------------+--------------------+\n",
            "|     review_id|star_rating|helpful_votes|total_votes|vine|verified_purchase|       helpful_ratio|\n",
            "+--------------+-----------+-------------+-----------+----+-----------------+--------------------+\n",
            "| R4PKAZRQJJX14|          1|         21.0|       34.0|   N|                N|  0.6176470588235294|\n",
            "|R2CI0Y288CC7E2|          1|         21.0|       35.0|   N|                Y|                 0.6|\n",
            "|R127WEQY2FM1T3|          1|        147.0|      175.0|   N|                Y|                0.84|\n",
            "|R3EZ0EPYLDA34S|          1|         14.0|       31.0|   N|                Y| 0.45161290322580644|\n",
            "|R2FJ94555FZH32|          2|         55.0|       60.0|   N|                N|  0.9166666666666666|\n",
            "|R1U3AR67RE273L|          1|         51.0|       65.0|   N|                Y|  0.7846153846153846|\n",
            "|R3PZOXA5X1U8KW|          4|         31.0|       36.0|   N|                N|  0.8611111111111112|\n",
            "| R6KTC1OPIOIIG|          2|         19.0|       34.0|   N|                Y|  0.5588235294117647|\n",
            "|R36O341WWXXKNP|          5|         28.0|       31.0|   N|                N|  0.9032258064516129|\n",
            "|R3GSK9MM8DNOYI|          1|          4.0|       32.0|   N|                N|               0.125|\n",
            "|R10LZVBLQHBVJ0|          2|        151.0|      198.0|   N|                N|  0.7626262626262627|\n",
            "|R1VR5GLGY1GE7N|          1|         49.0|       51.0|   N|                Y|  0.9607843137254902|\n",
            "|R3GUUC6NT4QMCL|          1|          5.0|       36.0|   N|                N|  0.1388888888888889|\n",
            "|R1ZSD020RT18I5|          1|          7.0|      139.0|   N|                N|0.050359712230215826|\n",
            "|R113X48B575ASY|          1|         15.0|       45.0|   N|                N|  0.3333333333333333|\n",
            "| RJLYLGRYH7SFQ|          1|         34.0|      116.0|   N|                N| 0.29310344827586204|\n",
            "|R2OWDAR0EDEPTF|          1|         23.0|       28.0|   N|                N|  0.8214285714285714|\n",
            "|R3CICXKAHN6NUD|          1|          0.0|       23.0|   N|                Y|                 0.0|\n",
            "|R29BOS5HMAY1LO|          5|         88.0|      110.0|   N|                N|                 0.8|\n",
            "| R8WD0136CETA7|          2|         99.0|      119.0|   N|                N|  0.8319327731092437|\n",
            "+--------------+-----------+-------------+-----------+----+-----------------+--------------------+\n",
            "only showing top 20 rows\n",
            "\n"
          ],
          "name": "stdout"
        }
      ]
    },
    {
      "cell_type": "code",
      "metadata": {
        "colab": {
          "base_uri": "https://localhost:8080/"
        },
        "id": "zg36dwqgZHTL",
        "outputId": "566c93bf-bcea-47bc-c13f-75e87365613b"
      },
      "source": [
        "# Filter helpful/total column >= 0.5\r\n",
        "helpful50_df = total_votes20_df.filter(\"helpful_ratio>=0.5\")\r\n",
        "helpful50_df.show(20)\r\n",
        "\r\n",
        "\r\n"
      ],
      "execution_count": 159,
      "outputs": [
        {
          "output_type": "stream",
          "text": [
            "+--------------+-----------+-------------+-----------+----+-----------------+------------------+\n",
            "|     review_id|star_rating|helpful_votes|total_votes|vine|verified_purchase|     helpful_ratio|\n",
            "+--------------+-----------+-------------+-----------+----+-----------------+------------------+\n",
            "| R4PKAZRQJJX14|          1|         21.0|       34.0|   N|                N|0.6176470588235294|\n",
            "|R2CI0Y288CC7E2|          1|         21.0|       35.0|   N|                Y|               0.6|\n",
            "|R127WEQY2FM1T3|          1|        147.0|      175.0|   N|                Y|              0.84|\n",
            "|R2FJ94555FZH32|          2|         55.0|       60.0|   N|                N|0.9166666666666666|\n",
            "|R1U3AR67RE273L|          1|         51.0|       65.0|   N|                Y|0.7846153846153846|\n",
            "|R3PZOXA5X1U8KW|          4|         31.0|       36.0|   N|                N|0.8611111111111112|\n",
            "| R6KTC1OPIOIIG|          2|         19.0|       34.0|   N|                Y|0.5588235294117647|\n",
            "|R36O341WWXXKNP|          5|         28.0|       31.0|   N|                N|0.9032258064516129|\n",
            "|R10LZVBLQHBVJ0|          2|        151.0|      198.0|   N|                N|0.7626262626262627|\n",
            "|R1VR5GLGY1GE7N|          1|         49.0|       51.0|   N|                Y|0.9607843137254902|\n",
            "|R2OWDAR0EDEPTF|          1|         23.0|       28.0|   N|                N|0.8214285714285714|\n",
            "|R29BOS5HMAY1LO|          5|         88.0|      110.0|   N|                N|               0.8|\n",
            "| R8WD0136CETA7|          2|         99.0|      119.0|   N|                N|0.8319327731092437|\n",
            "|R16621F16PQN5A|          3|         24.0|       31.0|   N|                Y|0.7741935483870968|\n",
            "|R1LXBPG1M9DDOC|          1|        102.0|      106.0|   N|                N|0.9622641509433962|\n",
            "| RNEMGSUKJ4535|          2|         21.0|       25.0|   N|                Y|              0.84|\n",
            "|R3R2UKBFKP1IQ4|          1|         19.0|       23.0|   N|                Y|0.8260869565217391|\n",
            "|R2T90XM5G2DBZA|          3|         15.0|       22.0|   N|                Y|0.6818181818181818|\n",
            "| R5ZMK0Y0KRBRZ|          1|         79.0|       91.0|   N|                N|0.8681318681318682|\n",
            "|R12E2W0XOV3I2S|          1|         24.0|       30.0|   N|                Y|               0.8|\n",
            "+--------------+-----------+-------------+-----------+----+-----------------+------------------+\n",
            "only showing top 20 rows\n",
            "\n"
          ],
          "name": "stdout"
        }
      ]
    },
    {
      "cell_type": "markdown",
      "metadata": {
        "id": "M9TPitiecYoK"
      },
      "source": [
        "**Step 3:** Filter the DataFrame or table created in Step 2, and create a new DataFrame or table that retrieves all the rows where a review was written as part of the Vine program (paid), vine == 'Y'.\r\n",
        "\r\n",
        "\r\n",
        "---"
      ]
    },
    {
      "cell_type": "code",
      "metadata": {
        "colab": {
          "base_uri": "https://localhost:8080/"
        },
        "id": "DtZ2H7ilcno2",
        "outputId": "5f5261b2-0334-4bd1-dc2d-f943624b683f"
      },
      "source": [
        "reviews_vine_df = helpful50_df.filter(helpful50_df[\"vine\"] == \"Y\")\r\n",
        "reviews_vine_df.show()\r\n"
      ],
      "execution_count": 169,
      "outputs": [
        {
          "output_type": "stream",
          "text": [
            "+--------------+-----------+-------------+-----------+----+-----------------+------------------+\n",
            "|     review_id|star_rating|helpful_votes|total_votes|vine|verified_purchase|     helpful_ratio|\n",
            "+--------------+-----------+-------------+-----------+----+-----------------+------------------+\n",
            "|R3KKUSGFZWSUIY|          5|         56.0|       63.0|   Y|                N|0.8888888888888888|\n",
            "|R10FO5UKKVZBK2|          3|         23.0|       23.0|   Y|                N|               1.0|\n",
            "| RM4KSGEOR7MU1|          5|         19.0|       24.0|   Y|                N|0.7916666666666666|\n",
            "| RG7VRMYLEXD23|          4|         22.0|       26.0|   Y|                N|0.8461538461538461|\n",
            "|R11O4YSCPSNL6L|          3|         20.0|       26.0|   Y|                N|0.7692307692307693|\n",
            "|R286MFBAJ8NPD6|          5|         46.0|       51.0|   Y|                N|0.9019607843137255|\n",
            "|R1JRR530H4COA2|          5|         22.0|       28.0|   Y|                N|0.7857142857142857|\n",
            "| RQ5WD90PUNBU9|          5|         21.0|       24.0|   Y|                N|             0.875|\n",
            "|R12648VHCQWUV9|          4|         21.0|       28.0|   Y|                N|              0.75|\n",
            "|R3KAW29CJ8L6DQ|          5|         17.0|       20.0|   Y|                N|              0.85|\n",
            "|R1OWK33OPI45KT|          5|         55.0|       58.0|   Y|                N|0.9482758620689655|\n",
            "|R2UP7VTED8O425|          5|         35.0|       41.0|   Y|                N|0.8536585365853658|\n",
            "|R3N4QAXTQCA1ED|          5|         18.0|       20.0|   Y|                N|               0.9|\n",
            "|R3EPHK0JGQGE91|          5|         21.0|       28.0|   Y|                N|              0.75|\n",
            "| RCP3KRO47S0GG|          4|         51.0|       58.0|   Y|                N|0.8793103448275862|\n",
            "|R3JT907UUA1WUI|          4|         85.0|      103.0|   Y|                N|0.8252427184466019|\n",
            "| RY0555ILXIYXW|          5|         38.0|       50.0|   Y|                N|              0.76|\n",
            "|R24PS9N276OXF4|          5|        241.0|      262.0|   Y|                N|0.9198473282442748|\n",
            "|R3R0F8ETAGTIOT|          5|         14.0|       20.0|   Y|                N|               0.7|\n",
            "| ROXZOMHBY8Y9S|          4|         21.0|       23.0|   Y|                N|0.9130434782608695|\n",
            "+--------------+-----------+-------------+-----------+----+-----------------+------------------+\n",
            "only showing top 20 rows\n",
            "\n"
          ],
          "name": "stdout"
        }
      ]
    },
    {
      "cell_type": "markdown",
      "metadata": {
        "id": "dmRJkFQNcqzy"
      },
      "source": [
        "**Step 4:** Repeat Step 3, but this time retrieve all the rows where the review was not part of the Vine program (unpaid), vine == 'N'.\r\n",
        "\r\n",
        "---"
      ]
    },
    {
      "cell_type": "code",
      "metadata": {
        "colab": {
          "base_uri": "https://localhost:8080/"
        },
        "id": "ZATZXV9Jc1_o",
        "outputId": "37a3ac70-56f8-4183-91f1-90511f4e0060"
      },
      "source": [
        "reviews_not_vine_df = helpful50_df.filter(helpful50_df[\"vine\"] == \"N\")\r\n",
        "reviews_not_vine_df.show()"
      ],
      "execution_count": 170,
      "outputs": [
        {
          "output_type": "stream",
          "text": [
            "+--------------+-----------+-------------+-----------+----+-----------------+------------------+\n",
            "|     review_id|star_rating|helpful_votes|total_votes|vine|verified_purchase|     helpful_ratio|\n",
            "+--------------+-----------+-------------+-----------+----+-----------------+------------------+\n",
            "| R4PKAZRQJJX14|          1|         21.0|       34.0|   N|                N|0.6176470588235294|\n",
            "|R2CI0Y288CC7E2|          1|         21.0|       35.0|   N|                Y|               0.6|\n",
            "|R127WEQY2FM1T3|          1|        147.0|      175.0|   N|                Y|              0.84|\n",
            "|R2FJ94555FZH32|          2|         55.0|       60.0|   N|                N|0.9166666666666666|\n",
            "|R1U3AR67RE273L|          1|         51.0|       65.0|   N|                Y|0.7846153846153846|\n",
            "|R3PZOXA5X1U8KW|          4|         31.0|       36.0|   N|                N|0.8611111111111112|\n",
            "| R6KTC1OPIOIIG|          2|         19.0|       34.0|   N|                Y|0.5588235294117647|\n",
            "|R36O341WWXXKNP|          5|         28.0|       31.0|   N|                N|0.9032258064516129|\n",
            "|R10LZVBLQHBVJ0|          2|        151.0|      198.0|   N|                N|0.7626262626262627|\n",
            "|R1VR5GLGY1GE7N|          1|         49.0|       51.0|   N|                Y|0.9607843137254902|\n",
            "|R2OWDAR0EDEPTF|          1|         23.0|       28.0|   N|                N|0.8214285714285714|\n",
            "|R29BOS5HMAY1LO|          5|         88.0|      110.0|   N|                N|               0.8|\n",
            "| R8WD0136CETA7|          2|         99.0|      119.0|   N|                N|0.8319327731092437|\n",
            "|R16621F16PQN5A|          3|         24.0|       31.0|   N|                Y|0.7741935483870968|\n",
            "|R1LXBPG1M9DDOC|          1|        102.0|      106.0|   N|                N|0.9622641509433962|\n",
            "| RNEMGSUKJ4535|          2|         21.0|       25.0|   N|                Y|              0.84|\n",
            "|R3R2UKBFKP1IQ4|          1|         19.0|       23.0|   N|                Y|0.8260869565217391|\n",
            "|R2T90XM5G2DBZA|          3|         15.0|       22.0|   N|                Y|0.6818181818181818|\n",
            "| R5ZMK0Y0KRBRZ|          1|         79.0|       91.0|   N|                N|0.8681318681318682|\n",
            "|R12E2W0XOV3I2S|          1|         24.0|       30.0|   N|                Y|               0.8|\n",
            "+--------------+-----------+-------------+-----------+----+-----------------+------------------+\n",
            "only showing top 20 rows\n",
            "\n"
          ],
          "name": "stdout"
        }
      ]
    },
    {
      "cell_type": "markdown",
      "metadata": {
        "id": "wnrn0gTUc2-Z"
      },
      "source": [
        "**Step 5:** Determine the total number of reviews, the number of 5-star reviews, and the percentage of 5-star reviews for the two types of review (paid vs unpaid).\r\n",
        "\r\n",
        "---\r\n",
        "\r\n",
        "\r\n"
      ]
    },
    {
      "cell_type": "code",
      "metadata": {
        "id": "ufynMy6EoaKV"
      },
      "source": [
        "# Total Reviews\r\n",
        "vine_total_reviews = reviews_vine_df.count()\r\n",
        "not_vine_total_reviews = reviews_not_vine_df.count()"
      ],
      "execution_count": 178,
      "outputs": []
    },
    {
      "cell_type": "code",
      "metadata": {
        "id": "tTkdNwYNpjIx"
      },
      "source": [
        "#  Total 5 Star Reviews\r\n",
        "vine_5_star = reviews_vine_df.filter(reviews_vine_df[\"star_rating\"] == \"5\").count()\r\n",
        "not_vine_5_star = reviews_not_vine_df.filter(reviews_not_vine_df[\"star_rating\"] == \"5\").count()\r\n"
      ],
      "execution_count": 179,
      "outputs": []
    },
    {
      "cell_type": "code",
      "metadata": {
        "id": "FQ4AAxUYpi60"
      },
      "source": [
        "# Percentage of 5 Star Reviews\r\n",
        "vine_5_star_percent = vine_5_star/vine_total_reviews*100\r\n",
        "non_vine_5_star_percent = (not_vine_5_star/not_vine_total_reviews*100)\r\n"
      ],
      "execution_count": 193,
      "outputs": []
    },
    {
      "cell_type": "code",
      "metadata": {
        "colab": {
          "base_uri": "https://localhost:8080/",
          "height": 97
        },
        "id": "0IHpck93sRNT",
        "outputId": "4d113116-ac57-44f4-f7ab-e4f24f46b951"
      },
      "source": [
        "# Create a Results DataFrame\r\n",
        "vine_summary_df = pd.DataFrame([{\"Vine Reviews\":vine_total_reviews,\r\n",
        "                                  \"non-Vine Reviews\":not_vine_total_reviews,\r\n",
        "                                  \"Vine 5-Star Reviews\":vine_5_star,\r\n",
        "                                  \"non-Vine 5-Star Reviews\":not_vine_5_star,\r\n",
        "                                  \"Vine 5-Star Reviews(%)\":vine_5_star_percent,\r\n",
        "                                  \"non-Vine 5-Star Reviews(%)\":non_vine_5_star_percent}])\r\n",
        "                               \r\n",
        "\r\n",
        "\r\n",
        "vine_summary_df.head()\r\n",
        "\r\n",
        "\r\n",
        "\r\n"
      ],
      "execution_count": 194,
      "outputs": [
        {
          "output_type": "execute_result",
          "data": {
            "text/html": [
              "<div>\n",
              "<style scoped>\n",
              "    .dataframe tbody tr th:only-of-type {\n",
              "        vertical-align: middle;\n",
              "    }\n",
              "\n",
              "    .dataframe tbody tr th {\n",
              "        vertical-align: top;\n",
              "    }\n",
              "\n",
              "    .dataframe thead th {\n",
              "        text-align: right;\n",
              "    }\n",
              "</style>\n",
              "<table border=\"1\" class=\"dataframe\">\n",
              "  <thead>\n",
              "    <tr style=\"text-align: right;\">\n",
              "      <th></th>\n",
              "      <th>Vine Reviews</th>\n",
              "      <th>non-Vine Reviews</th>\n",
              "      <th>Vine 5-Star Reviews</th>\n",
              "      <th>non-Vine 5-Star Reviews</th>\n",
              "      <th>Vine 5-Star Reviews(%)</th>\n",
              "      <th>non-Vine 5-Star Reviews(%)</th>\n",
              "    </tr>\n",
              "  </thead>\n",
              "  <tbody>\n",
              "    <tr>\n",
              "      <th>0</th>\n",
              "      <td>94</td>\n",
              "      <td>40471</td>\n",
              "      <td>48</td>\n",
              "      <td>15663</td>\n",
              "      <td>51.06383</td>\n",
              "      <td>38.701786</td>\n",
              "    </tr>\n",
              "  </tbody>\n",
              "</table>\n",
              "</div>"
            ],
            "text/plain": [
              "   Vine Reviews  ...  non-Vine 5-Star Reviews(%)\n",
              "0            94  ...                   38.701786\n",
              "\n",
              "[1 rows x 6 columns]"
            ]
          },
          "metadata": {
            "tags": []
          },
          "execution_count": 194
        }
      ]
    }
  ]
}